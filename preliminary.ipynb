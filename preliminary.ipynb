{
 "cells": [
  {
   "cell_type": "markdown",
   "metadata": {},
   "source": [
    "# IDS.131 Preliminary Analysis\n",
    "Miranda, Jinghong, Yue, Charlie, Meia"
   ]
  },
  {
   "cell_type": "code",
   "execution_count": 1,
   "metadata": {},
   "outputs": [],
   "source": [
    "import pandas as pd\n",
    "import matplotlib.pyplot as plt\n",
    "import math\n",
    "import csv\n",
    "import numpy as np\n",
    "from numpy import genfromtxt\n"
   ]
  },
  {
   "cell_type": "code",
   "execution_count": 2,
   "metadata": {},
   "outputs": [],
   "source": [
    "path = 'data/201809-bluebikes-tripdata.csv'"
   ]
  },
  {
   "cell_type": "code",
   "execution_count": 3,
   "metadata": {},
   "outputs": [
    {
     "name": "stdout",
     "output_type": "stream",
     "text": [
      "['tripduration', 'starttime', 'stoptime', 'startstationid', 'startstationname', 'startstationlatitude', 'startstationlongitude', 'endstationid', 'endstationname', 'endstationlatitude', 'endstationlongitude', 'bikeid', 'usertype', 'birthyear', 'gender\"']\n"
     ]
    },
    {
     "data": {
      "text/plain": [
       "array([['2596', '2018-09-01 00:02:30.4810', '2018-09-01 00:45:47.0830',\n",
       "        ..., 'Customer', '1969', '0'],\n",
       "       ['597', '2018-09-01 00:02:45.0660', '2018-09-01 00:12:43.0080',\n",
       "        ..., 'Subscriber', '1995', '1'],\n",
       "       ['2497', '2018-09-01 00:02:52.2380', '2018-09-01 00:44:30.2120',\n",
       "        ..., 'Customer', '1969', '0'],\n",
       "       ...,\n",
       "       ['808', '2018-09-30 23:59:44.3940', '2018-10-01 00:13:12.4110',\n",
       "        ..., 'Subscriber', '1999', '1'],\n",
       "       ['411', '2018-09-30 23:59:53.0020', '2018-10-01 00:06:44.0080',\n",
       "        ..., 'Subscriber', '1982', '1'],\n",
       "       ['643', '2018-09-30 19:30:33.2500', '2018-09-30 19:41:16.8290',\n",
       "        ..., 'Subscriber', '1989', '2']], dtype='<U70')"
      ]
     },
     "execution_count": 3,
     "metadata": {},
     "output_type": "execute_result"
    }
   ],
   "source": [
    "fo = open(path, \"r\")\n",
    "lines = fo.readlines()\n",
    "\n",
    "sept18 = []\n",
    "headers = []\n",
    "for header in lines[0].split(\",\"):\n",
    "    headers.append(header.strip(\"\\\"\").replace(\" \", \"\").strip(\"\\n\"))\n",
    "\n",
    "\n",
    "for i, line in enumerate(lines[1:]):\n",
    "    sept18.append(np.array([i.strip(\"\\\"\").strip('\\n') for i in line.split(\",\")]))\n",
    "    \n",
    "sept18 = np.vstack(sept18)\n",
    "print(headers)\n",
    "sept18"
   ]
  },
  {
   "cell_type": "code",
   "execution_count": 4,
   "metadata": {},
   "outputs": [
    {
     "data": {
      "text/plain": [
       "array(['2596', '2018-09-01 00:02:30.4810', '2018-09-01 00:45:47.0830',\n",
       "       '67', 'MIT at Mass Ave / Amherst St', '42.3581', '-71.093198',\n",
       "       '67', 'MIT at Mass Ave / Amherst St', '42.3581', '-71.093198',\n",
       "       '3912', 'Customer', '1969', '0'], dtype='<U70')"
      ]
     },
     "execution_count": 4,
     "metadata": {},
     "output_type": "execute_result"
    }
   ],
   "source": [
    "sept18[0]"
   ]
  },
  {
   "cell_type": "code",
   "execution_count": 5,
   "metadata": {},
   "outputs": [
    {
     "data": {
      "text/plain": [
       "{'tripduration': 0,\n",
       " 'starttime': 1,\n",
       " 'stoptime': 2,\n",
       " 'startstationid': 3,\n",
       " 'startstationname': 4,\n",
       " 'startstationlatitude': 5,\n",
       " 'startstationlongitude': 6,\n",
       " 'endstationid': 7,\n",
       " 'endstationname': 8,\n",
       " 'endstationlatitude': 9,\n",
       " 'endstationlongitude': 10,\n",
       " 'bikeid': 11,\n",
       " 'usertype': 12,\n",
       " 'birthyear': 13,\n",
       " 'gender\"': 14}"
      ]
     },
     "execution_count": 5,
     "metadata": {},
     "output_type": "execute_result"
    }
   ],
   "source": [
    "index_map = {\n",
    "    key: i for i, key in enumerate(headers)\n",
    "}\n",
    "index_map"
   ]
  },
  {
   "cell_type": "code",
   "execution_count": 6,
   "metadata": {},
   "outputs": [
    {
     "data": {
      "text/plain": [
       "{67: (42.3581, 42.3581),\n",
       " 47: (42.362811, 42.355536284897084),\n",
       " 20: (42.35991176110118, 42.35082680669095),\n",
       " 66: (42.34922469338298, 42.352261),\n",
       " 178: (42.35957320109044, 42.37119727759414),\n",
       " 56: (42.32854046293402, 42.32854046293402),\n",
       " 177: (42.36264779118595, 42.3581),\n",
       " 6: (42.36129095030584, 42.353334),\n",
       " 180: (42.37478628706384, 42.373231),\n",
       " 33: (42.348706, 42.350406),\n",
       " 61: (42.348762, 42.3581),\n",
       " 89: (42.379011, 42.3722168027866),\n",
       " 21: (42.34652003998412, 42.352409),\n",
       " 31: (42.34881026188269, 42.3481),\n",
       " 53: (42.35082680669095, 42.36346469304347),\n",
       " 107: (42.3625, 42.36346469304347),\n",
       " 79: (42.37842, 42.3876281075134),\n",
       " 105: (42.357218503176526, 42.3581),\n",
       " 100: (42.396969, 42.398365),\n",
       " 45: (42.3446808403874, 42.348706),\n",
       " 97: (42.36919031768079, 42.363796),\n",
       " 70: (42.3722168027866, 42.380287),\n",
       " 46: (42.3436658245146, 42.35082680669095),\n",
       " 152: (42.345901, 42.3481),\n",
       " 115: (42.387995, 42.362427842912396),\n",
       " 16: (42.34807412317439, 42.310579),\n",
       " 68: (42.36507, 42.37980717512428),\n",
       " 23: (42.35892, 42.362811),\n",
       " 129: (42.377022, 42.392766),\n",
       " 75: (42.36346469304347, 42.366621),\n",
       " 71: (42.383405, 42.374035),\n",
       " 91: (42.366277, 42.366277),\n",
       " 190: (42.365673, 42.340542615516355),\n",
       " 42: (42.35204262229712, 42.352261),\n",
       " 104: (42.380287, 42.373268),\n",
       " 220: (42.3963838795032, 42.39407223665884),\n",
       " 179: (42.355601213279265, 42.349205689770685),\n",
       " 12: (42.33624444796878, 42.316966),\n",
       " 10: (42.350406, 42.35169201885973),\n",
       " 119: (42.335741, 42.3350989929096),\n",
       " 60: (42.36018499796463, 42.370803),\n",
       " 139: (42.361780439606044, 42.348717),\n",
       " 55: (42.347265, 42.304127927390155),\n",
       " 35: (42.355335019412564, 42.35991176110118),\n",
       " 121: (42.335693, 42.330473650415165),\n",
       " 90: (42.370677, 42.38172115782515),\n",
       " 206: (42.359802515995526, 42.331184),\n",
       " 8: (42.353334, 42.406302),\n",
       " 150: (42.344137, 42.345901),\n",
       " 76: (42.366426, 42.35186),\n",
       " 57: (42.340542615516355, 42.3446808403874),\n",
       " 86: (42.332799, 42.3511419825475),\n",
       " 108: (42.377945, 42.373268),\n",
       " 41: (42.352261, 42.351146),\n",
       " 4: (42.345392, 42.3446808403874),\n",
       " 149: (42.363796, 42.357218503176526),\n",
       " 51: (42.3350989929096, 42.34011512249236),\n",
       " 69: (42.341598, 42.34922469338298),\n",
       " 74: (42.373268, 42.363796),\n",
       " 218: (42.351586001198456, 42.335741),\n",
       " 208: (42.35057, 42.373268),\n",
       " 11: (42.338629, 42.34922469338298),\n",
       " 186: (42.3481, 42.336437),\n",
       " 22: (42.352175, 42.36129095030584),\n",
       " 156: (42.39088801721338, 42.386844),\n",
       " 3: (42.34011512249236, 42.34011512249236),\n",
       " 151: (42.358155, 42.358155),\n",
       " 232: (42.304127927390155, 42.3436658245146),\n",
       " 14: (42.3374174845973, 42.32176525723952),\n",
       " 94: (42.375603, 42.392232840046276),\n",
       " 54: (42.354979, 42.340542615516355),\n",
       " 73: (42.373231, 42.35957320109044),\n",
       " 116: (42.370803, 42.36616223459919),\n",
       " 48: (42.356755, 42.355335019412564),\n",
       " 221: (42.37250864997261, 42.373268),\n",
       " 95: (42.372969, 42.357218503176526),\n",
       " 5: (42.341814, 42.33826680058037),\n",
       " 173: (42.3106, 42.3106),\n",
       " 27: (42.331184, 42.366277),\n",
       " 227: (42.34949599514002, 42.348706),\n",
       " 226: (42.35154734791375, 42.347241),\n",
       " 96: (42.373379, 42.3511419825475),\n",
       " 59: (42.351356, 42.343749),\n",
       " 58: (42.355536284897084, 42.37150494100319),\n",
       " 138: (42.326599, 42.303469),\n",
       " 17: (42.364263440638524, 42.364263440638524),\n",
       " 88: (42.374035, 42.3436658245146),\n",
       " 175: (42.34894857235593, 42.35154734791375),\n",
       " 29: (42.363732, 42.373268),\n",
       " 128: (42.320561, 42.320561),\n",
       " 191: (42.332096063019364, 42.32760387040573),\n",
       " 217: (42.386781, 42.386781),\n",
       " 39: (42.338514601785995, 42.338514601785995),\n",
       " 254: (42.2945833, 42.303469),\n",
       " 82: (42.33826680058037, 42.3429444),\n",
       " 131: (42.32293117195949, 42.316966),\n",
       " 240: (42.36599406030789, 42.376369),\n",
       " 37: (42.35732921867706, 42.353334),\n",
       " 13: (42.336437, 42.346197076555455),\n",
       " 36: (42.34993463611888, 42.35892),\n",
       " 120: (42.356052, 42.356052),\n",
       " 99: (42.385582, 42.377945),\n",
       " 231: (42.38172115782515, 42.36346469304347),\n",
       " 195: (42.37150494100319, 42.378338),\n",
       " 15: (42.3615457081725, 42.373268),\n",
       " 225: (42.37119727759414, 42.366277),\n",
       " 204: (42.324081, 42.340542615516355),\n",
       " 233: (42.346197076555455, 42.341598),\n",
       " 64: (42.351004495946704, 42.352175),\n",
       " 117: (42.36616223459919, 42.363560158429884),\n",
       " 160: (42.33758601097239, 42.34011512249236),\n",
       " 212: (42.368844082898356, 42.370744),\n",
       " 124: (42.309054, 42.310579),\n",
       " 210: (42.383532520117896, 42.383532520117896),\n",
       " 133: (42.310579, 42.32854046293402),\n",
       " 40: (42.363871, 42.363871),\n",
       " 169: (42.378965, 42.374010653844934),\n",
       " 161: (42.3391085, 42.3391085),\n",
       " 137: (42.398365, 42.3963838795032),\n",
       " 185: (42.36544486137399, 42.36346469304347),\n",
       " 87: (42.366621, 42.36507),\n",
       " 237: (42.37497659215716, 42.37497659215716),\n",
       " 222: (42.343749, 42.335741),\n",
       " 81: (42.352409, 42.36346469304347),\n",
       " 146: (42.336448, 42.335741),\n",
       " 98: (42.371848, 42.365673),\n",
       " 9: (42.35169201885973, 42.34949599514002),\n",
       " 203: (42.309572, 42.336437),\n",
       " 80: (42.3621312344991, 42.36507),\n",
       " 25: (42.341332, 42.316902),\n",
       " 163: (42.344792, 42.355335019412564),\n",
       " 78: (42.37980717512428, 42.374035),\n",
       " 19: (42.347241, 42.357143),\n",
       " 92: (42.314507, 42.314507),\n",
       " 157: (42.35317809186252, 42.371848),\n",
       " 176: (42.38674802045056, 42.326599),\n",
       " 26: (42.341522, 42.340542615516355),\n",
       " 125: (42.32176525723952, 42.32760387040573),\n",
       " 187: (42.32784317478686, 42.332799),\n",
       " 50: (42.3511419825475, 42.36129095030584),\n",
       " 77: (42.386844, 42.3528611),\n",
       " 52: (42.348717, 42.370803),\n",
       " 140: (42.388966, 42.373231),\n",
       " 224: (42.38267827521855, 42.37497659215716),\n",
       " 113: (42.330473650415165, 42.33023264684929),\n",
       " 84: (42.366981, 42.375603),\n",
       " 49: (42.351146, 42.347265),\n",
       " 189: (42.362427842912396, 42.36346469304347),\n",
       " 144: (42.36575798214837, 42.3581),\n",
       " 239: (42.39407223665884, 42.398365),\n",
       " 145: (42.392766, 42.380287),\n",
       " 188: (42.39108438146733, 42.39108438146733),\n",
       " 114: (42.40203828065014, 42.396969),\n",
       " 142: (42.396105, 42.39407223665884),\n",
       " 205: (42.30785224238503, 42.32033973515723),\n",
       " 197: (42.32143814183195, 42.32293117195949),\n",
       " 159: (42.32760387040573, 42.32760387040573),\n",
       " 264: (42.3429444, 42.33553091872319),\n",
       " 182: (42.36769018024484, 42.36575798214837),\n",
       " 193: (42.33376472623494, 42.33826680058037),\n",
       " 211: (42.3648929326648, 42.368844082898356),\n",
       " 32: (42.34519428944095, 42.3350989929096),\n",
       " 85: (42.378338, 42.369885),\n",
       " 216: (42.38240377674137, 42.373312125824704),\n",
       " 181: (42.381650612901176, 42.3621312344991),\n",
       " 30: (42.33462893055976, 42.332799),\n",
       " 171: (42.37408991426522, 42.400877),\n",
       " 135: (42.344827, 42.351586001198456),\n",
       " 110: (42.376369, 42.37119727759414),\n",
       " 141: (42.363560158429884, 42.36129095030584),\n",
       " 118: (42.397828, 42.400877),\n",
       " 184: (42.35775309465199, 42.370803),\n",
       " 112: (42.406302, 42.373231),\n",
       " 246: (42.2861532, 42.34807412317439),\n",
       " 258: (42.28297567840305, 42.330473650415165),\n",
       " 260: (42.2996667, 42.344040510016356),\n",
       " 192: (42.354659, 42.362811),\n",
       " 167: (42.317642, 42.3436658245146),\n",
       " 102: (42.400877, 42.37497659215716),\n",
       " 236: (42.392232840046276, 42.38172115782515),\n",
       " 63: (42.344040510016356, 42.341522),\n",
       " 143: (42.369885, 42.350413),\n",
       " 238: (42.39138548863825, 42.374035),\n",
       " 257: (42.2873611, 42.286251),\n",
       " 262: (42.3528611, 42.353334),\n",
       " 244: (42.292706, 42.292706),\n",
       " 43: (42.357143, 42.3481),\n",
       " 201: (42.316902, 42.338629),\n",
       " 214: (42.37530443828819, 42.37530443828819),\n",
       " 130: (42.31727474327453, 42.340542615516355),\n",
       " 24: (42.35148193460858, 42.35991176110118),\n",
       " 241: (42.267902, 42.2873611),\n",
       " 256: (42.290333, 42.32293117195949),\n",
       " 93: (42.32033973515723, 42.314507),\n",
       " 228: (42.361619320766856, 42.36129095030584),\n",
       " 234: (42.39517150121575, 42.387995),\n",
       " 209: (42.379772, 42.379772),\n",
       " 183: (42.395588457167094, 42.395588457167094),\n",
       " 134: (42.350413, 42.348706),\n",
       " 255: (42.2944167, 42.2996667),\n",
       " 109: (42.36590788445084, 42.34519428944095),\n",
       " 170: (42.303469, 42.352409),\n",
       " 259: (42.297722, 42.309572),\n",
       " 65: (42.347763454147454, 42.345901),\n",
       " 162: (42.309796, 42.306539),\n",
       " 111: (42.40449, 42.406302),\n",
       " 103: (42.346563, 42.338629),\n",
       " 136: (42.344796, 42.352175),\n",
       " 263: (42.2773889, 42.2773889),\n",
       " 194: (42.386141411639564, 42.39108438146733),\n",
       " 7: (42.3533905070523, 42.35204262229712),\n",
       " 213: (42.369536, 42.369536),\n",
       " 235: (42.3876281075134, 42.38172115782515),\n",
       " 122: (42.345733, 42.347265),\n",
       " 174: (42.3489528466951, 42.3528611),\n",
       " 72: (42.362613, 42.362811),\n",
       " 242: (42.287072, 42.32760387040573),\n",
       " 207: (42.35484, 42.3489528466951),\n",
       " 202: (42.30791, 42.2996667),\n",
       " 215: (42.370744, 42.369536),\n",
       " 199: (42.318697341722434, 42.325333),\n",
       " 200: (42.332817, 42.331184),\n",
       " 219: (42.373312125824704, 42.369536),\n",
       " 126: (42.315692, 42.331184),\n",
       " 248: (42.280753829614476, 42.27454525528758),\n",
       " 196: (42.31787329345602, 42.332817),\n",
       " 245: (42.27454525528758, 42.280753829614476),\n",
       " 1: (42.387151, 42.37980717512428),\n",
       " 243: (42.348368023549895, 42.366277),\n",
       " 249: (42.3402177416592, 42.33553091872319),\n",
       " 168: (42.349561885454115, 42.3429444),\n",
       " 155: (42.33651909304393, 42.33651909304393),\n",
       " 247: (42.344695708662215, 42.338629),\n",
       " 252: (42.33553091872319, 42.35732921867706),\n",
       " 253: (42.286251, 42.2773889),\n",
       " 106: (42.325333, 42.352409),\n",
       " 281: (42.380584, 42.3581),\n",
       " 283: (42.374917, 42.366981),\n",
       " 280: (42.380857, 42.350413),\n",
       " 274: (42.385249, 42.37530443828819),\n",
       " 277: (42.374010653844934, 42.374010653844934),\n",
       " 284: (42.333919727205775, 42.341814),\n",
       " 279: (42.306539, 42.32293117195949),\n",
       " 282: (42.316966, 42.33624444796878),\n",
       " 278: (42.312120283566095, 42.372969),\n",
       " 250: (42.35186, 42.347265),\n",
       " 296: (42.3334, 42.317642),\n",
       " 295: (42.33023264684929, 42.351586001198456),\n",
       " 294: (42.349205689770685, 42.348706),\n",
       " 307: (42.3428, 42.2996667),\n",
       " 293: (42.32946325922549, 42.336437)}"
      ]
     },
     "execution_count": 6,
     "metadata": {},
     "output_type": "execute_result"
    }
   ],
   "source": [
    "station_coordinates = {\n",
    "    int(row[index_map['startstationid']]): (float(row[index_map['startstationlatitude']]), float(row[index_map['endstationlatitude']])) for row in sept18\n",
    "}\n",
    "station_coordinates"
   ]
  },
  {
   "cell_type": "code",
   "execution_count": 7,
   "metadata": {},
   "outputs": [
    {
     "name": "stdout",
     "output_type": "stream",
     "text": [
      "('1', 28) ('10', 1532) ('100', 1403) ('102', 322) ('103', 382) ('104', 610) ('105', 2076) ('106', 55) ('107', 2851) ('108', 1088) ('109', 768) ('11', 1095) ('110', 1529) ('111', 185) ('112', 210) ('113', 517) ('114', 319) ('115', 1527) ('116', 1501) ('117', 1002) ('118', 573) ('119', 829) ('12', 1545) ('120', 1253) ('121', 843) ('122', 497) ('124', 372) ('125', 550) ('126', 142) ('128', 205) ('129', 371) ('13', 1330) ('130', 97) ('131', 698) ('133', 480) ('134', 925) ('135', 365) ('136', 585) ('137', 355) ('138', 327) ('139', 1221) ('14', 1083) ('140', 393) ('141', 820) ('142', 317) ('143', 758) ('144', 677) ('145', 336) ('146', 644) ('149', 1413) ('15', 477) ('150', 868) ('151', 1261) ('152', 1230) ('155', 395) ('156', 410) ('157', 1650) ('159', 376) ('16', 2528) ('160', 829) ('161', 1021) ('162', 69) ('163', 702) ('167', 208) ('168', 610) ('169', 404) ('17', 935) ('170', 77) ('171', 505) ('173', 185) ('174', 178) ('175', 423) ('176', 620) ('177', 2408) ('178', 3902) ('179', 3355) ('180', 430) ('181', 394) ('182', 518) ('183', 311) ('184', 1244) ('185', 1381) ('186', 868) ('187', 164) ('188', 259) ('189', 3685) ('19', 860) ('190', 3329) ('191', 96) ('192', 852) ('193', 341) ('194', 330) ('195', 670) ('196', 84) ('197', 139) ('199', 75) ('20', 1955) ('200', 201) ('201', 61) ('202', 28) ('203', 53) ('204', 68) ('205', 100) ('206', 1330) ('207', 147) ('208', 186) ('209', 45) ('21', 1416) ('210', 68) ('211', 277) ('212', 302) ('213', 180) ('214', 219) ('215', 147) ('216', 52) ('217', 112) ('218', 895) ('219', 171) ('22', 4300) ('220', 817) ('221', 1019) ('222', 572) ('224', 269) ('225', 1221) ('226', 1085) ('227', 1966) ('228', 720) ('23', 2694) ('231', 351) ('232', 66) ('233', 937) ('234', 281) ('235', 191) ('236', 268) ('237', 399) ('238', 373) ('239', 623) ('24', 1109) ('240', 1060) ('241', 48) ('242', 109) ('243', 392) ('244', 186) ('245', 24) ('246', 30) ('247', 683) ('248', 19) ('249', 117) ('25', 1118) ('250', 100) ('252', 172) ('253', 18) ('254', 28) ('255', 20) ('256', 41) ('257', 39) ('258', 40) ('259', 26) ('26', 1266) ('260', 111) ('262', 130) ('263', 39) ('264', 348) ('27', 1001) ('274', 15) ('277', 222) ('278', 97) ('279', 43) ('280', 100) ('281', 71) ('282', 166) ('283', 153) ('284', 100) ('29', 597) ('293', 5) ('294', 158) ('295', 24) ('296', 44) ('3', 831) ('30', 925) ('307', 38) ('31', 683) ('32', 1384) ('33', 2055) ('35', 1694) ('36', 3293) ('37', 259) ('39', 1754) ('4', 1295) ('40', 1879) ('41', 1677) ('42', 1959) ('43', 1410) ('45', 2009) ('46', 2229) ('47', 2451) ('48', 911) ('49', 1149) ('5', 1766) ('50', 1343) ('51', 484) ('52', 2930) ('53', 4221) ('54', 1845) ('55', 2646) ('56', 258) ('57', 1555) ('58', 2276) ('59', 1284) ('6', 2071) ('60', 2563) ('61', 2346) ('63', 504) ('64', 1363) ('65', 481) ('66', 847) ('67', 7470) ('68', 4844) ('69', 1448) ('7', 555) ('70', 1618) ('71', 1122) ('72', 607) ('73', 1592) ('74', 3739) ('75', 1831) ('76', 2321) ('77', 474) ('78', 788) ('79', 1263) ('8', 713) ('80', 5217) ('81', 1665) ('82', 627) ('84', 1538) ('85', 655) ('86', 391) ('87', 1365) ('88', 1461) ('89', 1299) ('9', 1440) ('90', 1915) ('91', 2590) ('92', 125) ('93', 308) ('94', 740) ('95', 1451) ('96', 1355) ('97', 1769) ('98', 1808) ('99', 516)\n"
     ]
    }
   ],
   "source": [
    "unique_starts, count_starts = np.unique(sept18[:,3], return_counts=True)\n",
    "print(*zip(unique_starts, count_starts))"
   ]
  },
  {
   "cell_type": "code",
   "execution_count": 9,
   "metadata": {},
   "outputs": [
    {
     "name": "stdout",
     "output_type": "stream",
     "text": [
      "('1', 81) ('10', 1545) ('100', 1434) ('102', 324) ('103', 403) ('104', 579) ('105', 2142) ('106', 63) ('107', 3177) ('108', 1105) ('109', 590) ('11', 1669) ('110', 1520) ('111', 188) ('112', 212) ('113', 544) ('114', 305) ('115', 1370) ('116', 1299) ('117', 1051) ('118', 574) ('119', 811) ('12', 1571) ('120', 1248) ('121', 805) ('122', 486) ('124', 385) ('125', 535) ('126', 138) ('128', 218) ('129', 368) ('13', 1306) ('130', 81) ('131', 680) ('133', 517) ('134', 890) ('135', 366) ('136', 558) ('137', 317) ('138', 358) ('139', 1158) ('14', 1088) ('140', 402) ('141', 1677) ('142', 342) ('143', 703) ('144', 695) ('145', 339) ('146', 733) ('149', 1425) ('15', 478) ('150', 871) ('151', 1274) ('152', 1226) ('155', 382) ('156', 358) ('157', 1613) ('159', 347) ('16', 2298) ('160', 834) ('161', 948) ('162', 53) ('163', 671) ('167', 216) ('168', 633) ('169', 372) ('17', 939) ('170', 70) ('171', 452) ('173', 190) ('174', 185) ('175', 373) ('176', 683) ('177', 2323) ('178', 3860) ('179', 3257) ('180', 430) ('181', 399) ('182', 521) ('183', 328) ('184', 1365) ('185', 1382) ('186', 876) ('187', 170) ('188', 248) ('189', 3370) ('19', 855) ('190', 4270) ('191', 107) ('192', 869) ('193', 335) ('194', 348) ('195', 626) ('196', 70) ('197', 130) ('199', 69) ('20', 1955) ('200', 194) ('201', 46) ('202', 27) ('203', 47) ('204', 60) ('205', 83) ('206', 1253) ('207', 146) ('208', 194) ('209', 46) ('21', 1424) ('210', 69) ('211', 266) ('212', 315) ('213', 182) ('214', 212) ('215', 152) ('216', 52) ('217', 113) ('218', 1014) ('219', 180) ('22', 3813) ('220', 842) ('221', 1039) ('222', 576) ('224', 266) ('225', 1210) ('226', 1098) ('227', 1990) ('228', 719) ('23', 2557) ('231', 341) ('232', 60) ('233', 960) ('234', 188) ('235', 204) ('236', 313) ('237', 409) ('238', 367) ('239', 600) ('24', 1521) ('240', 1075) ('241', 49) ('242', 118) ('243', 373) ('244', 188) ('245', 28) ('246', 25) ('247', 681) ('248', 15) ('249', 111) ('25', 1023) ('250', 103) ('252', 172) ('253', 19) ('254', 19) ('255', 15) ('256', 32) ('257', 45) ('258', 54) ('259', 23) ('26', 1253) ('260', 133) ('262', 146) ('263', 36) ('264', 297) ('27', 953) ('274', 13) ('277', 217) ('278', 110) ('279', 57) ('280', 114) ('281', 63) ('282', 150) ('283', 144) ('284', 94) ('29', 600) ('293', 9) ('294', 160) ('295', 22) ('296', 41) ('3', 837) ('30', 912) ('306', 2) ('307', 40) ('31', 682) ('32', 1420) ('33', 2095) ('35', 1673) ('36', 3633) ('37', 272) ('39', 1762) ('4', 1291) ('40', 1921) ('41', 1649) ('42', 1981) ('43', 1442) ('45', 1989) ('46', 2235) ('47', 2509) ('48', 1156) ('49', 1174) ('5', 1770) ('50', 1386) ('51', 472) ('52', 2846) ('53', 3866) ('54', 1849) ('55', 2670) ('56', 242) ('57', 1632) ('58', 2301) ('59', 1307) ('6', 2118) ('60', 2566) ('61', 2329) ('63', 494) ('64', 1247) ('65', 412) ('66', 725) ('67', 7230) ('68', 4898) ('69', 1414) ('7', 561) ('70', 1691) ('71', 1115) ('72', 614) ('73', 1580) ('74', 3757) ('75', 1837) ('76', 2286) ('77', 374) ('78', 891) ('79', 1242) ('8', 694) ('80', 4580) ('81', 1674) ('82', 501) ('84', 1559) ('85', 701) ('86', 390) ('87', 1362) ('88', 1486) ('89', 1297) ('9', 1455) ('90', 1867) ('91', 2473) ('92', 127) ('93', 317) ('94', 703) ('95', 1328) ('96', 1366) ('97', 1774) ('98', 1693) ('99', 506)\n"
     ]
    }
   ],
   "source": [
    "unique_ends, count_ends = np.unique(sept18[:,7], return_counts=True)\n",
    "print(*zip(unique_ends, count_ends))"
   ]
  },
  {
   "cell_type": "code",
   "execution_count": null,
   "metadata": {},
   "outputs": [],
   "source": [
    "plt.plot(unique_ends, count_ends)"
   ]
  },
  {
   "cell_type": "code",
   "execution_count": 10,
   "metadata": {},
   "outputs": [
    {
     "data": {
      "text/plain": [
       "array(['1', '10', '100', '102', '103', '104', '105', '106', '107', '108',\n",
       "       '109', '11', '110', '111', '112', '113', '114', '115', '116',\n",
       "       '117', '118', '119', '12', '120', '121', '122', '124', '125',\n",
       "       '126', '128', '129', '13', '130', '131', '133', '134', '135',\n",
       "       '136', '137', '138', '139', '14', '140', '141', '142', '143',\n",
       "       '144', '145', '146', '149', '15', '150', '151', '152', '155',\n",
       "       '156', '157', '159', '16', '160', '161', '162', '163', '167',\n",
       "       '168', '169', '17', '170', '171', '173', '174', '175', '176',\n",
       "       '177', '178', '179', '180', '181', '182', '183', '184', '185',\n",
       "       '186', '187', '188', '189', '19', '190', '191', '192', '193',\n",
       "       '194', '195', '196', '197', '199', '20', '200', '201', '202',\n",
       "       '203', '204', '205', '206', '207', '208', '209', '21', '210',\n",
       "       '211', '212', '213', '214', '215', '216', '217', '218', '219',\n",
       "       '22', '220', '221', '222', '224', '225', '226', '227', '228', '23',\n",
       "       '231', '232', '233', '234', '235', '236', '237', '238', '239',\n",
       "       '24', '240', '241', '242', '243', '244', '245', '246', '247',\n",
       "       '248', '249', '25', '250', '252', '253', '254', '255', '256',\n",
       "       '257', '258', '259', '26', '260', '262', '263', '264', '27', '274',\n",
       "       '277', '278', '279', '280', '281', '282', '283', '284', '29',\n",
       "       '293', '294', '295', '296', '3', '30', '307', '31', '32', '33',\n",
       "       '35', '36', '37', '39', '4', '40', '41', '42', '43', '45', '46',\n",
       "       '47', '48', '49', '5', '50', '51', '52', '53', '54', '55', '56',\n",
       "       '57', '58', '59', '6', '60', '61', '63', '64', '65', '66', '67',\n",
       "       '68', '69', '7', '70', '71', '72', '73', '74', '75', '76', '77',\n",
       "       '78', '79', '8', '80', '81', '82', '84', '85', '86', '87', '88',\n",
       "       '89', '9', '90', '91', '92', '93', '94', '95', '96', '97', '98',\n",
       "       '99'], dtype='<U70')"
      ]
     },
     "execution_count": 10,
     "metadata": {},
     "output_type": "execute_result"
    }
   ],
   "source": [
    "#plt.plot(unique_starts, count_starts)\n",
    "unique_starts"
   ]
  },
  {
   "cell_type": "code",
   "execution_count": 21,
   "metadata": {},
   "outputs": [
    {
     "data": {
      "image/png": "[encoded data removed]",
      "text/plain": [
       "<Figure size 432x288 with 2 Axes>"
      ]
     },
     "metadata": {
      "needs_background": "light"
     },
     "output_type": "display_data"
    }
   ],
   "source": [
    "# Generate data...\n",
    "lat = [station_coordinates[int(i)][0] for i in unique_starts]\n",
    "long = [station_coordinates[int(i)][1] for i in unique_starts]\n",
    "\n",
    "# Plot...\n",
    "plt.scatter(long, lat, c=count_starts, s=2, cmap='rainbow')\n",
    "plt.colorbar()\n",
    "\n",
    "plt.show()"
   ]
  },
  {
   "cell_type": "code",
   "execution_count": null,
   "metadata": {},
   "outputs": [],
   "source": []
  }
 ],
 "metadata": {
  "kernelspec": {
   "display_name": "Python 3",
   "language": "python",
   "name": "python3"
  },
  "language_info": {
   "codemirror_mode": {
    "name": "ipython",
    "version": 3
   },
   "file_extension": ".py",
   "mimetype": "text/x-python",
   "name": "python",
   "nbconvert_exporter": "python",
   "pygments_lexer": "ipython3",
   "version": "3.6.7"
  }
 },
 "nbformat": 4,
 "nbformat_minor": 2
}
