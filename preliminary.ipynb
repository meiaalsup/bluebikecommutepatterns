{
 "cells": [
  {
   "cell_type": "markdown",
   "metadata": {},
   "source": [
    "# IDS.131 Preliminary Analysis\n",
    "Miranda, Jinghong, Yue, Charlie, Meia"
   ]
  },
  {
   "cell_type": "code",
   "execution_count": 1,
   "metadata": {},
   "outputs": [],
   "source": [
    "from preprocess import *"
   ]
  },
  {
   "cell_type": "markdown",
   "metadata": {},
   "source": [
    "## Load in and Preprocess Data"
   ]
  },
  {
   "cell_type": "code",
   "execution_count": 2,
   "metadata": {},
   "outputs": [
    {
     "name": "stdout",
     "output_type": "stream",
     "text": [
      "['tripduration', 'starttime', 'stoptime', 'startstationid', 'startstationname', 'startstationlatitude', 'startstationlongitude', 'endstationid', 'endstationname', 'endstationlatitude', 'endstationlongitude', 'bikeid', 'usertype', 'birthyear', 'gender\"']\n",
      "{'tripduration': 0, 'starttime': 1, 'stoptime': 2, 'startstationid': 3, 'startstationname': 4, 'startstationlatitude': 5, 'startstationlongitude': 6, 'endstationid': 7, 'endstationname': 8, 'endstationlatitude': 9, 'endstationlongitude': 10, 'bikeid': 11, 'usertype': 12, 'birthyear': 13, 'gender\"': 14}\n"
     ]
    }
   ],
   "source": [
    "headers = get_headers(2018, 9)\n",
    "\n",
    "# get the data we want to use\n",
    "y2018 = {i+1: preprocess(2018, i+1) for i in range(9)}\n",
    "y2017 = {i: preprocess(2017, i) for i in range(10,13)}\n",
    "\n",
    "fullyear = np.vstack([month for month in {**y2017, **y2018}.values()])\n",
    "\n",
    "# map of data column to what that column represents\n",
    "index_map = {\n",
    "    key: i for i, key in enumerate(headers)\n",
    "}\n",
    "\n",
    "# maps station ids to their respective latitudes and longitudes\n",
    "station_coordinates = {\n",
    "    int(row[index_map['endstationid']]):\n",
    "    (float(row[index_map['endstationlatitude']]), float(row[index_map['endstationlongitude']]))\n",
    "    for row in fullyear\n",
    "}\n",
    "\n",
    "print(headers)\n",
    "print(index_map)"
   ]
  },
  {
   "cell_type": "code",
   "execution_count": 6,
   "metadata": {},
   "outputs": [
    {
     "data": {
      "text/plain": [
       "{117: (42.36616223459919, -71.08688293667001),\n",
       " 66: (42.34922469338298, -71.13275302578586),\n",
       " 67: (42.3581, -71.093198),\n",
       " 17: (42.364263440638524, -71.1182756971175),\n",
       " 81: (42.352409, -71.062679),\n",
       " 77: (42.386844, -71.09812),\n",
       " 74: (42.373268, -71.118579),\n",
       " 174: (42.3489528466951, -71.16031676530838),\n",
       " 120: (42.356052, -71.069849),\n",
       " 20: (42.35991176110118, -71.0514298081398),\n",
       " 60: (42.36018499796463, -71.07086597688976),\n",
       " 46: (42.3436658245146, -71.08582377433777),\n",
       " 12: (42.33624444796878, -71.08798563480377),\n",
       " 179: (42.355601213279265, -71.10394477844238),\n",
       " 53: (42.35082680669095, -71.0898108780384),\n",
       " 73: (42.373231, -71.120886),\n",
       " 176: (42.38674802045056, -71.11901879310608),\n",
       " 227: (42.34949599514002, -71.10057592391968),\n",
       " 31: (42.34881026188269, -71.04167744055303),\n",
       " 88: (42.374035, -71.101427),\n",
       " 11: (42.338629, -71.1065),\n",
       " 94: (42.375603, -71.064608),\n",
       " 149: (42.363796, -71.129164),\n",
       " 104: (42.380287, -71.125107),\n",
       " 19: (42.347241, -71.105301),\n",
       " 79: (42.37842, -71.105668),\n",
       " 134: (42.350413, -71.07655),\n",
       " 25: (42.341332, -71.076847),\n",
       " 24: (42.35148193460858, -71.04436084628105),\n",
       " 116: (42.370803, -71.104412),\n",
       " 30: (42.33462893055976, -71.10407917767589),\n",
       " 178: (42.35957320109044, -71.10129475593567),\n",
       " 114: (42.40203828065014, -71.1265329148955),\n",
       " 78: (42.37980717512428, -71.09387040138245),\n",
       " 103: (42.346563, -71.128374),\n",
       " 57: (42.340542615516355, -71.08138847914233),\n",
       " 80: (42.3621312344991, -71.09115600585936),\n",
       " 139: (42.361780439606044, -71.10809952020645),\n",
       " 190: (42.365673, -71.064263),\n",
       " 71: (42.383405, -71.107593),\n",
       " 195: (42.37150494100319, -71.07249312120985),\n",
       " 131: (42.32293117195949, -71.10014140605927),\n",
       " 33: (42.348706, -71.097009),\n",
       " 185: (42.36544486137399, -71.08277142047882),\n",
       " 41: (42.352261, -71.123831),\n",
       " 8: (42.353334, -71.137313),\n",
       " 5: (42.341814, -71.090179),\n",
       " 169: (42.378965, -71.068607),\n",
       " 107: (42.3625, -71.08822),\n",
       " 27: (42.331184, -71.095171),\n",
       " 42: (42.35204262229712, -71.0704493522644),\n",
       " 68: (42.36507, -71.1031),\n",
       " 113: (42.330473650415165, -71.05701684951782),\n",
       " 23: (42.35892, -71.057629),\n",
       " 35: (42.355335019412564, -71.0582291708306),\n",
       " 95: (42.372969, -71.094445),\n",
       " 110: (42.376369, -71.114025),\n",
       " 39: (42.338514601785995, -71.07404083013535),\n",
       " 189: (42.362427842912396, -71.08495473861694),\n",
       " 75: (42.36346469304347, -71.10057324171066),\n",
       " 115: (42.387995, -71.119084),\n",
       " 196: (42.31787329345602, -71.08243077993393),\n",
       " 21: (42.34652003998412, -71.08065776545118),\n",
       " 45: (42.3446808403874, -71.09785348176956),\n",
       " 100: (42.396969, -71.123024),\n",
       " 119: (42.335741, -71.03877),\n",
       " 4: (42.345392, -71.069616),\n",
       " 10: (42.350406, -71.108279),\n",
       " 44: (42.359770804627935, -71.05963733056342),\n",
       " 186: (42.3481, -71.03764),\n",
       " 13: (42.336437, -71.073089),\n",
       " 36: (42.34993463611888, -71.07738554477692),\n",
       " 87: (42.366621, -71.114214),\n",
       " 9: (42.35169201885973, -71.11903488636017),\n",
       " 130: (42.31727474327453, -71.06537003967787),\n",
       " 37: (42.35732921867706, -71.14673539996147),\n",
       " 47: (42.362811, -71.056067),\n",
       " 6: (42.36129095030584, -71.06526192286765),\n",
       " 99: (42.385582, -71.113341),\n",
       " 175: (42.34894857235593, -71.15027189254761),\n",
       " 90: (42.370677, -71.076529),\n",
       " 54: (42.354979, -71.063348),\n",
       " 183: (42.395588457167094, -71.14260613918304),\n",
       " 97: (42.36919031768079, -71.11714124679565),\n",
       " 171: (42.37408991426522, -71.06905996799469),\n",
       " 180: (42.37478628706384, -71.13320231437683),\n",
       " 63: (42.344040510016356, -71.05737626552582),\n",
       " 58: (42.355536284897084, -71.07286870479584),\n",
       " 98: (42.371848, -71.060292),\n",
       " 224: (42.38267827521855, -71.143478951426),\n",
       " 85: (42.378338, -71.048927),\n",
       " 64: (42.351004495946704, -71.04930013418198),\n",
       " 84: (42.366981, -71.076472),\n",
       " 72: (42.362613, -71.084105),\n",
       " 152: (42.345901, -71.063187),\n",
       " 194: (42.386141411639564, -71.07828140258789),\n",
       " 146: (42.336448, -71.023739),\n",
       " 82: (42.33826680058037, -71.13894682028331),\n",
       " 96: (42.373379, -71.111075),\n",
       " 26: (42.341522, -71.068922),\n",
       " 151: (42.358155, -71.052163),\n",
       " 141: (42.363560158429884, -71.08216792345047),\n",
       " 128: (42.320561, -71.06198),\n",
       " 1: (42.387151, -71.075978),\n",
       " 50: (42.3511419825475, -71.07329249382019),\n",
       " 145: (42.392766, -71.129042),\n",
       " 51: (42.3350989929096, -71.07903778553009),\n",
       " 118: (42.397828, -71.130516),\n",
       " 16: (42.34807412317439, -71.07657015323639),\n",
       " 121: (42.335693, -71.045859),\n",
       " 52: (42.348717, -71.085954),\n",
       " 56: (42.32854046293402, -71.08416482806204),\n",
       " 122: (42.345733, -71.100694),\n",
       " 150: (42.344137, -71.052608),\n",
       " 22: (42.352175, -71.055547),\n",
       " 218: (42.351586001198456, -71.04569256305693),\n",
       " 161: (42.3391085, -71.0514432),\n",
       " 91: (42.366277, -71.09169),\n",
       " 55: (42.347265, -71.088088),\n",
       " 138: (42.326599, -71.066498),\n",
       " 221: (42.37250864997261, -71.11305356025696),\n",
       " 137: (42.398365, -71.107818),\n",
       " 200: (42.332817, -71.081198),\n",
       " 40: (42.363871, -71.050877),\n",
       " 160: (42.33758601097239, -71.09627097845076),\n",
       " 192: (42.354659, -71.053181),\n",
       " 59: (42.351356, -71.059367),\n",
       " 89: (42.379011, -71.119945),\n",
       " 105: (42.357218503176526, -71.1138716340065),\n",
       " 15: (42.3615457081725, -71.13776206970215),\n",
       " 143: (42.369885, -71.069957),\n",
       " 61: (42.348762, -71.082383),\n",
       " 76: (42.366426, -71.105495),\n",
       " 93: (42.32033973515723, -71.05118036270142),\n",
       " 125: (42.32176525723952, -71.10984160567114),\n",
       " 14: (42.3374174845973, -71.10286116600037),\n",
       " 3: (42.34011512249236, -71.10061883926392),\n",
       " 177: (42.36264779118595, -71.10006093978882),\n",
       " 213: (42.369536, -71.039431),\n",
       " 212: (42.368844082898356, -71.03977829217911),\n",
       " 216: (42.38240377674137, -71.03024303913116),\n",
       " 159: (42.32760387040573, -71.11089169979095),\n",
       " 111: (42.40449, -71.123413),\n",
       " 65: (42.347763454147454, -71.0453599691391),\n",
       " 69: (42.341598, -71.123338),\n",
       " 48: (42.356755, -71.055407),\n",
       " 142: (42.396105, -71.139459),\n",
       " 49: (42.351146, -71.066289),\n",
       " 226: (42.35154734791375, -71.12126246094704),\n",
       " 43: (42.357143, -71.050699),\n",
       " 70: (42.3722168027866, -71.12188071012497),\n",
       " 217: (42.386781, -71.006098),\n",
       " 182: (42.36769018024484, -71.07116281986237),\n",
       " 124: (42.309054, -71.11543),\n",
       " 108: (42.377945, -71.116865),\n",
       " 193: (42.33376472623494, -71.12046446660315),\n",
       " 210: (42.383532520117896, -71.01619094610214),\n",
       " 211: (42.3648929326648, -71.03497177362442),\n",
       " 162: (42.309796, -71.092225),\n",
       " 133: (42.310579, -71.107341),\n",
       " 208: (42.35057, -71.166491),\n",
       " 228: (42.361619320766856, -71.0804355052096),\n",
       " 163: (42.344792, -71.044024),\n",
       " 197: (42.32143814183195, -71.09126061201096),\n",
       " 214: (42.37530443828819, -71.0312630455337),\n",
       " 184: (42.35775309465199, -71.10393404960632),\n",
       " 32: (42.34519428944095, -71.1016970872879),\n",
       " 170: (42.303469, -71.085347),\n",
       " 7: (42.3533905070523, -71.04457139968872),\n",
       " 136: (42.344796, -71.031614),\n",
       " 167: (42.317642, -71.056664),\n",
       " 29: (42.363732, -71.124565),\n",
       " 126: (42.315692, -71.098634),\n",
       " 102: (42.400877, -71.116772),\n",
       " 109: (42.36590788445084, -71.06446668505669),\n",
       " 135: (42.344827, -71.028664),\n",
       " 225: (42.37119727759414, -71.09759867191315),\n",
       " 140: (42.388966, -71.132788),\n",
       " 205: (42.30785224238503, -71.06512248516083),\n",
       " 112: (42.406302, -71.132446),\n",
       " 219: (42.373312125824704, -71.0410200806291),\n",
       " 201: (42.316902, -71.091946),\n",
       " 92: (42.314507, -71.041269),\n",
       " 199: (42.318697341722434, -71.0697814822197),\n",
       " 129: (42.377022, -71.056605),\n",
       " 173: (42.3106, -71.0539),\n",
       " 202: (42.30791, -71.080952),\n",
       " 209: (42.379772, -71.027448),\n",
       " 215: (42.370744, -71.044201),\n",
       " 203: (42.309572, -71.0729),\n",
       " 230: (0.0, 0.0),\n",
       " 229: (0.0, 0.0),\n",
       " 204: (42.324081, -71.083235),\n",
       " 164: (0.0, 0.0),\n",
       " 157: (42.35317809186252, -71.04817356923377),\n",
       " 181: (42.381650612901176, -71.13426981498378),\n",
       " 222: (42.343749, -71.062256),\n",
       " 207: (42.35484, -71.150226),\n",
       " 232: (42.304127927390155, -71.07929527759552),\n",
       " 106: (42.325333, -71.075354),\n",
       " 206: (42.359802515995526, -71.05960782626425),\n",
       " 264: (42.3429444, -71.1413333),\n",
       " 253: (42.286251, -71.079463),\n",
       " 259: (42.297722, -71.073),\n",
       " 239: (42.39407223665884, -71.11133694648743),\n",
       " 158: (0.0, 0.0),\n",
       " 191: (42.332096063019364, -71.128458827734),\n",
       " 86: (42.332799, -71.116205),\n",
       " 234: (42.39517150121575, -71.09850591982195),\n",
       " 187: (42.32784317478686, -71.1253622174263),\n",
       " 188: (42.39108438146733, -71.09039425849915),\n",
       " 235: (42.3876281075134, -71.08318716287613),\n",
       " 220: (42.3963838795032, -71.12010508775711),\n",
       " 231: (42.38172115782515, -71.08376650152422),\n",
       " 236: (42.392232840046276, -71.07746601104736),\n",
       " 156: (42.39088801721338, -71.10962569713591),\n",
       " 260: (42.2996667, -71.0605833),\n",
       " 238: (42.39138548863825, -71.12288117408751),\n",
       " 144: (42.36575798214837, -71.07699394226073),\n",
       " 237: (42.37497659215716, -71.14863030630659),\n",
       " 168: (42.349561885454115, -71.1302706227616),\n",
       " 240: (42.36599406030789, -71.09516322612761),\n",
       " 233: (42.346197076555455, -71.10728681087494),\n",
       " 256: (42.290333, -71.071806),\n",
       " 258: (42.28297567840305, -71.05466698296368),\n",
       " 263: (42.2773889, -71.09325),\n",
       " 241: (42.267902, -71.093641),\n",
       " 257: (42.2873611, -71.0711111),\n",
       " 255: (42.2944167, -71.0783056),\n",
       " 248: (42.280753829614476, -71.08621831150231),\n",
       " 243: (42.348368023549895, -71.13997621466297),\n",
       " 245: (42.27454525528758, -71.09372016051566),\n",
       " 242: (42.287072, -71.127754),\n",
       " 246: (42.2861532, -71.1283744),\n",
       " 262: (42.3528611, -71.1600278),\n",
       " 244: (42.292706, -71.121145),\n",
       " 254: (42.2945833, -71.087111),\n",
       " 249: (42.3402177416592, -71.1517309399278),\n",
       " 155: (42.33651909304393, -71.0989692435578),\n",
       " 247: (42.344695708662215, -71.09723791480063),\n",
       " 252: (42.33553091872319, -71.15072786808014),\n",
       " 282: (42.316966, -71.104374),\n",
       " 283: (42.374917, -71.063829),\n",
       " 281: (42.380584, -71.060875),\n",
       " 280: (42.380857, -71.070629),\n",
       " 277: (42.374010653844934, -71.0548335313797),\n",
       " 279: (42.306539, -71.107669),\n",
       " 284: (42.333919727205775, -71.10446777203833),\n",
       " 278: (42.312120283566095, -71.11429806807791),\n",
       " 274: (42.385249, -71.010601),\n",
       " 250: (42.35186, -71.067688),\n",
       " 296: (42.3334, -71.02495),\n",
       " 294: (42.349205689770685, -71.09727063041646),\n",
       " 295: (42.33023264684929, -71.0505741463021),\n",
       " 307: (42.3428, -71.05751),\n",
       " 293: (42.32946325922549, -71.09015820552486),\n",
       " 306: (42.31784, -71.07796)}"
      ]
     },
     "execution_count": 6,
     "metadata": {},
     "output_type": "execute_result"
    }
   ],
   "source": [
    "station_coordinates"
   ]
  },
  {
   "cell_type": "code",
   "execution_count": 7,
   "metadata": {},
   "outputs": [],
   "source": [
    "import scipy"
   ]
  },
  {
   "cell_type": "code",
   "execution_count": null,
   "metadata": {},
   "outputs": [],
   "source": []
  },
  {
   "cell_type": "code",
   "execution_count": null,
   "metadata": {},
   "outputs": [],
   "source": []
  },
  {
   "cell_type": "code",
   "execution_count": null,
   "metadata": {},
   "outputs": [],
   "source": []
  },
  {
   "cell_type": "code",
   "execution_count": null,
   "metadata": {},
   "outputs": [],
   "source": []
  },
  {
   "cell_type": "code",
   "execution_count": 4,
   "metadata": {},
   "outputs": [],
   "source": [
    "morning = (4,10)  # inclusive, so from 4am to 11am.\n",
    "evening = (16,19)  # inclusive, from 4pm to 8pm"
   ]
  },
  {
   "cell_type": "markdown",
   "metadata": {},
   "source": [
    "## Station Usage Heat Maps\n",
    "\n",
    "### For trips during month of sept 2018"
   ]
  },
  {
   "cell_type": "code",
   "execution_count": 5,
   "metadata": {},
   "outputs": [
    {
     "name": "stderr",
     "output_type": "stream",
     "text": [
      "Process ForkPoolWorker-3:\n",
      "Process ForkPoolWorker-7:\n",
      "Process ForkPoolWorker-4:\n",
      "Process ForkPoolWorker-1:\n",
      "Process ForkPoolWorker-2:\n",
      "Process ForkPoolWorker-5:\n",
      "Process ForkPoolWorker-8:\n",
      "Process ForkPoolWorker-6:\n",
      "Traceback (most recent call last):\n",
      "Traceback (most recent call last):\n",
      "Traceback (most recent call last):\n",
      "Traceback (most recent call last):\n",
      "Traceback (most recent call last):\n",
      "Traceback (most recent call last):\n",
      "Traceback (most recent call last):\n",
      "Traceback (most recent call last):\n",
      "  File \"/Library/Frameworks/Python.framework/Versions/3.6/lib/python3.6/multiprocessing/process.py\", line 258, in _bootstrap\n",
      "    self.run()\n",
      "  File \"/Library/Frameworks/Python.framework/Versions/3.6/lib/python3.6/multiprocessing/process.py\", line 258, in _bootstrap\n",
      "    self.run()\n",
      "  File \"/Library/Frameworks/Python.framework/Versions/3.6/lib/python3.6/multiprocessing/process.py\", line 258, in _bootstrap\n",
      "    self.run()\n",
      "  File \"/Library/Frameworks/Python.framework/Versions/3.6/lib/python3.6/multiprocessing/process.py\", line 258, in _bootstrap\n",
      "    self.run()\n",
      "  File \"/Library/Frameworks/Python.framework/Versions/3.6/lib/python3.6/multiprocessing/process.py\", line 258, in _bootstrap\n",
      "    self.run()\n",
      "  File \"/Library/Frameworks/Python.framework/Versions/3.6/lib/python3.6/multiprocessing/process.py\", line 258, in _bootstrap\n",
      "    self.run()\n",
      "  File \"/Library/Frameworks/Python.framework/Versions/3.6/lib/python3.6/multiprocessing/process.py\", line 258, in _bootstrap\n",
      "    self.run()\n",
      "  File \"/Library/Frameworks/Python.framework/Versions/3.6/lib/python3.6/multiprocessing/process.py\", line 258, in _bootstrap\n",
      "    self.run()\n",
      "  File \"/Library/Frameworks/Python.framework/Versions/3.6/lib/python3.6/multiprocessing/process.py\", line 93, in run\n",
      "    self._target(*self._args, **self._kwargs)\n",
      "  File \"/Library/Frameworks/Python.framework/Versions/3.6/lib/python3.6/multiprocessing/process.py\", line 93, in run\n",
      "    self._target(*self._args, **self._kwargs)\n",
      "  File \"/Library/Frameworks/Python.framework/Versions/3.6/lib/python3.6/multiprocessing/process.py\", line 93, in run\n",
      "    self._target(*self._args, **self._kwargs)\n",
      "  File \"/Library/Frameworks/Python.framework/Versions/3.6/lib/python3.6/multiprocessing/process.py\", line 93, in run\n",
      "    self._target(*self._args, **self._kwargs)\n",
      "  File \"/Library/Frameworks/Python.framework/Versions/3.6/lib/python3.6/multiprocessing/process.py\", line 93, in run\n",
      "    self._target(*self._args, **self._kwargs)\n",
      "  File \"/Library/Frameworks/Python.framework/Versions/3.6/lib/python3.6/multiprocessing/process.py\", line 93, in run\n",
      "    self._target(*self._args, **self._kwargs)\n",
      "  File \"/Library/Frameworks/Python.framework/Versions/3.6/lib/python3.6/multiprocessing/pool.py\", line 119, in worker\n",
      "    result = (True, func(*args, **kwds))\n",
      "  File \"/Library/Frameworks/Python.framework/Versions/3.6/lib/python3.6/multiprocessing/process.py\", line 93, in run\n",
      "    self._target(*self._args, **self._kwargs)\n",
      "  File \"/Library/Frameworks/Python.framework/Versions/3.6/lib/python3.6/multiprocessing/process.py\", line 93, in run\n",
      "    self._target(*self._args, **self._kwargs)\n",
      "  File \"/Library/Frameworks/Python.framework/Versions/3.6/lib/python3.6/multiprocessing/pool.py\", line 119, in worker\n",
      "    result = (True, func(*args, **kwds))\n",
      "  File \"/Library/Frameworks/Python.framework/Versions/3.6/lib/python3.6/multiprocessing/pool.py\", line 119, in worker\n",
      "    result = (True, func(*args, **kwds))\n",
      "  File \"/Library/Frameworks/Python.framework/Versions/3.6/lib/python3.6/multiprocessing/pool.py\", line 119, in worker\n",
      "    result = (True, func(*args, **kwds))\n",
      "  File \"/Library/Frameworks/Python.framework/Versions/3.6/lib/python3.6/multiprocessing/pool.py\", line 119, in worker\n",
      "    result = (True, func(*args, **kwds))\n",
      "  File \"/Library/Frameworks/Python.framework/Versions/3.6/lib/python3.6/multiprocessing/pool.py\", line 119, in worker\n",
      "    result = (True, func(*args, **kwds))\n",
      "  File \"/Library/Frameworks/Python.framework/Versions/3.6/lib/python3.6/multiprocessing/pool.py\", line 119, in worker\n",
      "    result = (True, func(*args, **kwds))\n",
      "  File \"/Library/Frameworks/Python.framework/Versions/3.6/lib/python3.6/multiprocessing/pool.py\", line 119, in worker\n",
      "    result = (True, func(*args, **kwds))\n",
      "  File \"/Library/Frameworks/Python.framework/Versions/3.6/lib/python3.6/multiprocessing/pool.py\", line 44, in mapstar\n",
      "    return list(map(*args))\n",
      "  File \"/Library/Frameworks/Python.framework/Versions/3.6/lib/python3.6/multiprocessing/pool.py\", line 44, in mapstar\n",
      "    return list(map(*args))\n",
      "  File \"/Library/Frameworks/Python.framework/Versions/3.6/lib/python3.6/multiprocessing/pool.py\", line 44, in mapstar\n",
      "    return list(map(*args))\n",
      "  File \"/Library/Frameworks/Python.framework/Versions/3.6/lib/python3.6/multiprocessing/pool.py\", line 44, in mapstar\n",
      "    return list(map(*args))\n",
      "  File \"/Library/Frameworks/Python.framework/Versions/3.6/lib/python3.6/multiprocessing/pool.py\", line 44, in mapstar\n",
      "    return list(map(*args))\n",
      "  File \"/Library/Frameworks/Python.framework/Versions/3.6/lib/python3.6/multiprocessing/pool.py\", line 44, in mapstar\n",
      "    return list(map(*args))\n",
      "  File \"/Library/Frameworks/Python.framework/Versions/3.6/lib/python3.6/multiprocessing/pool.py\", line 44, in mapstar\n",
      "    return list(map(*args))\n",
      "  File \"/Library/Frameworks/Python.framework/Versions/3.6/lib/python3.6/multiprocessing/pool.py\", line 44, in mapstar\n",
      "    return list(map(*args))\n",
      "  File \"<ipython-input-3-db35279739bd>\", line 2, in _in_range\n",
      "    return 1 if (parser.parse(time).hour <= interval[1] and parser.parse(time).hour >= interval[0]) else 0\n",
      "  File \"<ipython-input-3-db35279739bd>\", line 2, in _in_range\n",
      "    return 1 if (parser.parse(time).hour <= interval[1] and parser.parse(time).hour >= interval[0]) else 0\n",
      "  File \"<ipython-input-3-db35279739bd>\", line 2, in _in_range\n",
      "    return 1 if (parser.parse(time).hour <= interval[1] and parser.parse(time).hour >= interval[0]) else 0\n",
      "  File \"<ipython-input-3-db35279739bd>\", line 2, in _in_range\n",
      "    return 1 if (parser.parse(time).hour <= interval[1] and parser.parse(time).hour >= interval[0]) else 0\n",
      "  File \"<ipython-input-3-db35279739bd>\", line 2, in _in_range\n",
      "    return 1 if (parser.parse(time).hour <= interval[1] and parser.parse(time).hour >= interval[0]) else 0\n",
      "  File \"<ipython-input-3-db35279739bd>\", line 2, in _in_range\n",
      "    return 1 if (parser.parse(time).hour <= interval[1] and parser.parse(time).hour >= interval[0]) else 0\n",
      "  File \"<ipython-input-3-db35279739bd>\", line 2, in _in_range\n",
      "    return 1 if (parser.parse(time).hour <= interval[1] and parser.parse(time).hour >= interval[0]) else 0\n",
      "  File \"<ipython-input-3-db35279739bd>\", line 2, in _in_range\n",
      "    return 1 if (parser.parse(time).hour <= interval[1] and parser.parse(time).hour >= interval[0]) else 0\n",
      "  File \"/Library/Frameworks/Python.framework/Versions/3.6/lib/python3.6/site-packages/dateutil/parser/_parser.py\", line 1356, in parse\n",
      "    return DEFAULTPARSER.parse(timestr, **kwargs)\n",
      "  File \"/Library/Frameworks/Python.framework/Versions/3.6/lib/python3.6/site-packages/dateutil/parser/_parser.py\", line 1356, in parse\n",
      "    return DEFAULTPARSER.parse(timestr, **kwargs)\n",
      "  File \"/Library/Frameworks/Python.framework/Versions/3.6/lib/python3.6/site-packages/dateutil/parser/_parser.py\", line 1356, in parse\n",
      "    return DEFAULTPARSER.parse(timestr, **kwargs)\n",
      "  File \"/Library/Frameworks/Python.framework/Versions/3.6/lib/python3.6/site-packages/dateutil/parser/_parser.py\", line 1356, in parse\n",
      "    return DEFAULTPARSER.parse(timestr, **kwargs)\n",
      "  File \"/Library/Frameworks/Python.framework/Versions/3.6/lib/python3.6/site-packages/dateutil/parser/_parser.py\", line 1356, in parse\n",
      "    return DEFAULTPARSER.parse(timestr, **kwargs)\n",
      "  File \"/Library/Frameworks/Python.framework/Versions/3.6/lib/python3.6/site-packages/dateutil/parser/_parser.py\", line 1356, in parse\n",
      "    return DEFAULTPARSER.parse(timestr, **kwargs)\n",
      "  File \"/Library/Frameworks/Python.framework/Versions/3.6/lib/python3.6/site-packages/dateutil/parser/_parser.py\", line 1356, in parse\n",
      "    return DEFAULTPARSER.parse(timestr, **kwargs)\n",
      "  File \"/Library/Frameworks/Python.framework/Versions/3.6/lib/python3.6/site-packages/dateutil/parser/_parser.py\", line 1356, in parse\n",
      "    return DEFAULTPARSER.parse(timestr, **kwargs)\n",
      "  File \"/Library/Frameworks/Python.framework/Versions/3.6/lib/python3.6/site-packages/dateutil/parser/_parser.py\", line 642, in parse\n",
      "    default = datetime.datetime.now().replace(hour=0, minute=0,\n"
     ]
    },
    {
     "name": "stderr",
     "output_type": "stream",
     "text": [
      "  File \"/Library/Frameworks/Python.framework/Versions/3.6/lib/python3.6/site-packages/dateutil/parser/_parser.py\", line 642, in parse\n",
      "    default = datetime.datetime.now().replace(hour=0, minute=0,\n",
      "  File \"/Library/Frameworks/Python.framework/Versions/3.6/lib/python3.6/site-packages/dateutil/parser/_parser.py\", line 642, in parse\n",
      "    default = datetime.datetime.now().replace(hour=0, minute=0,\n",
      "  File \"/Library/Frameworks/Python.framework/Versions/3.6/lib/python3.6/site-packages/dateutil/parser/_parser.py\", line 642, in parse\n",
      "    default = datetime.datetime.now().replace(hour=0, minute=0,\n",
      "  File \"/Library/Frameworks/Python.framework/Versions/3.6/lib/python3.6/site-packages/dateutil/parser/_parser.py\", line 645, in parse\n",
      "    res, skipped_tokens = self._parse(timestr, **kwargs)\n",
      "  File \"/Library/Frameworks/Python.framework/Versions/3.6/lib/python3.6/site-packages/dateutil/parser/_parser.py\", line 642, in parse\n",
      "    default = datetime.datetime.now().replace(hour=0, minute=0,\n",
      "  File \"/Library/Frameworks/Python.framework/Versions/3.6/lib/python3.6/site-packages/dateutil/parser/_parser.py\", line 642, in parse\n",
      "    default = datetime.datetime.now().replace(hour=0, minute=0,\n",
      "  File \"/Library/Frameworks/Python.framework/Versions/3.6/lib/python3.6/site-packages/dateutil/parser/_parser.py\", line 642, in parse\n",
      "    default = datetime.datetime.now().replace(hour=0, minute=0,\n",
      "KeyboardInterrupt\n",
      "KeyboardInterrupt\n",
      "KeyboardInterrupt\n",
      "KeyboardInterrupt\n",
      "  File \"/Library/Frameworks/Python.framework/Versions/3.6/lib/python3.6/site-packages/dateutil/parser/_parser.py\", line 721, in _parse\n",
      "    l = _timelex.split(timestr)         # Splits the timestr into tokens\n",
      "KeyboardInterrupt\n",
      "KeyboardInterrupt\n",
      "KeyboardInterrupt\n",
      "  File \"/Library/Frameworks/Python.framework/Versions/3.6/lib/python3.6/site-packages/dateutil/parser/_parser.py\", line 207, in split\n",
      "    return list(cls(s))\n",
      "  File \"/Library/Frameworks/Python.framework/Versions/3.6/lib/python3.6/site-packages/dateutil/parser/_parser.py\", line 196, in __next__\n",
      "    token = self.get_token()\n",
      "  File \"/Library/Frameworks/Python.framework/Versions/3.6/lib/python3.6/site-packages/dateutil/parser/_parser.py\", line 109, in get_token\n",
      "    if self.charstack:\n",
      "KeyboardInterrupt\n"
     ]
    },
    {
     "ename": "KeyboardInterrupt",
     "evalue": "",
     "output_type": "error",
     "traceback": [
      "\u001b[0;31m---------------------------------------------------------------------------\u001b[0m",
      "\u001b[0;31mKeyboardInterrupt\u001b[0m                         Traceback (most recent call last)",
      "\u001b[0;32m<ipython-input-5-d2fd5d05af23>\u001b[0m in \u001b[0;36m<module>\u001b[0;34m\u001b[0m\n\u001b[0;32m----> 1\u001b[0;31m \u001b[0mplot_station_use_heat_map\u001b[0m\u001b[0;34m(\u001b[0m\u001b[0my2018\u001b[0m\u001b[0;34m[\u001b[0m\u001b[0;36m9\u001b[0m\u001b[0;34m]\u001b[0m\u001b[0;34m,\u001b[0m \u001b[0mstart\u001b[0m\u001b[0;34m=\u001b[0m\u001b[0;32mTrue\u001b[0m\u001b[0;34m)\u001b[0m  \u001b[0;31m# stations where the most trips originate for september 2018\u001b[0m\u001b[0;34m\u001b[0m\u001b[0;34m\u001b[0m\u001b[0m\n\u001b[0m",
      "\u001b[0;32m<ipython-input-3-db35279739bd>\u001b[0m in \u001b[0;36mplot_station_use_heat_map\u001b[0;34m(dataset, interval, start)\u001b[0m\n\u001b[1;32m     17\u001b[0m                          \u001b[0mtrue\u001b[0m \u001b[0;32mfor\u001b[0m \u001b[0mstart\u001b[0m \u001b[0mstation\u001b[0m \u001b[0mfalse\u001b[0m \u001b[0;32mfor\u001b[0m \u001b[0mend\u001b[0m \u001b[0mstation\u001b[0m\u001b[0;34m\u001b[0m\u001b[0;34m\u001b[0m\u001b[0m\n\u001b[1;32m     18\u001b[0m     '''\n\u001b[0;32m---> 19\u001b[0;31m     \u001b[0mdataset\u001b[0m \u001b[0;34m=\u001b[0m \u001b[0m_narrow_dataset_by_time\u001b[0m\u001b[0;34m(\u001b[0m\u001b[0mdataset\u001b[0m\u001b[0;34m.\u001b[0m\u001b[0mcopy\u001b[0m\u001b[0;34m(\u001b[0m\u001b[0;34m)\u001b[0m\u001b[0;34m,\u001b[0m \u001b[0minterval\u001b[0m\u001b[0;34m)\u001b[0m\u001b[0;34m\u001b[0m\u001b[0;34m\u001b[0m\u001b[0m\n\u001b[0m\u001b[1;32m     20\u001b[0m     \u001b[0mcoord\u001b[0m \u001b[0;34m=\u001b[0m \u001b[0;34m'startstationid'\u001b[0m \u001b[0;32mif\u001b[0m \u001b[0mstart\u001b[0m \u001b[0;32melse\u001b[0m \u001b[0;34m'endstationid'\u001b[0m\u001b[0;34m\u001b[0m\u001b[0;34m\u001b[0m\u001b[0m\n\u001b[1;32m     21\u001b[0m     \u001b[0munique\u001b[0m\u001b[0;34m,\u001b[0m \u001b[0mcount\u001b[0m \u001b[0;34m=\u001b[0m \u001b[0mnp\u001b[0m\u001b[0;34m.\u001b[0m\u001b[0munique\u001b[0m\u001b[0;34m(\u001b[0m\u001b[0mdataset\u001b[0m\u001b[0;34m[\u001b[0m\u001b[0;34m:\u001b[0m\u001b[0;34m,\u001b[0m\u001b[0mindex_map\u001b[0m\u001b[0;34m[\u001b[0m\u001b[0mcoord\u001b[0m\u001b[0;34m]\u001b[0m\u001b[0;34m]\u001b[0m\u001b[0;34m,\u001b[0m \u001b[0mreturn_counts\u001b[0m\u001b[0;34m=\u001b[0m\u001b[0;32mTrue\u001b[0m\u001b[0;34m)\u001b[0m\u001b[0;34m\u001b[0m\u001b[0;34m\u001b[0m\u001b[0m\n",
      "\u001b[0;32m<ipython-input-3-db35279739bd>\u001b[0m in \u001b[0;36m_narrow_dataset_by_time\u001b[0;34m(dataset, interval)\u001b[0m\n\u001b[1;32m      4\u001b[0m \u001b[0;32mdef\u001b[0m \u001b[0m_narrow_dataset_by_time\u001b[0m\u001b[0;34m(\u001b[0m\u001b[0mdataset\u001b[0m\u001b[0;34m,\u001b[0m \u001b[0minterval\u001b[0m\u001b[0;34m)\u001b[0m\u001b[0;34m:\u001b[0m\u001b[0;34m\u001b[0m\u001b[0;34m\u001b[0m\u001b[0m\n\u001b[1;32m      5\u001b[0m     \u001b[0mp\u001b[0m \u001b[0;34m=\u001b[0m \u001b[0mPool\u001b[0m\u001b[0;34m(\u001b[0m\u001b[0;36m8\u001b[0m\u001b[0;34m)\u001b[0m\u001b[0;34m\u001b[0m\u001b[0;34m\u001b[0m\u001b[0m\n\u001b[0;32m----> 6\u001b[0;31m     \u001b[0mfiltered\u001b[0m \u001b[0;34m=\u001b[0m \u001b[0mp\u001b[0m\u001b[0;34m.\u001b[0m\u001b[0mmap\u001b[0m\u001b[0;34m(\u001b[0m\u001b[0mpartial\u001b[0m\u001b[0;34m(\u001b[0m\u001b[0m_in_range\u001b[0m\u001b[0;34m,\u001b[0m \u001b[0minterval\u001b[0m\u001b[0;34m=\u001b[0m\u001b[0minterval\u001b[0m\u001b[0;34m)\u001b[0m\u001b[0;34m,\u001b[0m \u001b[0;34m[\u001b[0m\u001b[0mi\u001b[0m \u001b[0;32mfor\u001b[0m \u001b[0mi\u001b[0m \u001b[0;32min\u001b[0m \u001b[0mdataset\u001b[0m\u001b[0;34m[\u001b[0m\u001b[0;34m:\u001b[0m\u001b[0;34m,\u001b[0m\u001b[0mindex_map\u001b[0m\u001b[0;34m[\u001b[0m\u001b[0;34m'starttime'\u001b[0m\u001b[0;34m]\u001b[0m\u001b[0;34m]\u001b[0m\u001b[0;34m]\u001b[0m\u001b[0;34m)\u001b[0m\u001b[0;34m\u001b[0m\u001b[0;34m\u001b[0m\u001b[0m\n\u001b[0m\u001b[1;32m      7\u001b[0m     \u001b[0;32mreturn\u001b[0m \u001b[0mdataset\u001b[0m\u001b[0;34m[\u001b[0m\u001b[0mnp\u001b[0m\u001b[0;34m.\u001b[0m\u001b[0marray\u001b[0m\u001b[0;34m(\u001b[0m\u001b[0mfiltered\u001b[0m\u001b[0;34m)\u001b[0m\u001b[0;34m==\u001b[0m\u001b[0;36m1\u001b[0m\u001b[0;34m]\u001b[0m\u001b[0;34m\u001b[0m\u001b[0;34m\u001b[0m\u001b[0m\n\u001b[1;32m      8\u001b[0m \u001b[0;34m\u001b[0m\u001b[0m\n",
      "\u001b[0;32m/Library/Frameworks/Python.framework/Versions/3.6/lib/python3.6/multiprocessing/pool.py\u001b[0m in \u001b[0;36mmap\u001b[0;34m(self, func, iterable, chunksize)\u001b[0m\n\u001b[1;32m    286\u001b[0m         \u001b[0;32min\u001b[0m \u001b[0ma\u001b[0m \u001b[0mlist\u001b[0m \u001b[0mthat\u001b[0m \u001b[0;32mis\u001b[0m \u001b[0mreturned\u001b[0m\u001b[0;34m.\u001b[0m\u001b[0;34m\u001b[0m\u001b[0;34m\u001b[0m\u001b[0m\n\u001b[1;32m    287\u001b[0m         '''\n\u001b[0;32m--> 288\u001b[0;31m         \u001b[0;32mreturn\u001b[0m \u001b[0mself\u001b[0m\u001b[0;34m.\u001b[0m\u001b[0m_map_async\u001b[0m\u001b[0;34m(\u001b[0m\u001b[0mfunc\u001b[0m\u001b[0;34m,\u001b[0m \u001b[0miterable\u001b[0m\u001b[0;34m,\u001b[0m \u001b[0mmapstar\u001b[0m\u001b[0;34m,\u001b[0m \u001b[0mchunksize\u001b[0m\u001b[0;34m)\u001b[0m\u001b[0;34m.\u001b[0m\u001b[0mget\u001b[0m\u001b[0;34m(\u001b[0m\u001b[0;34m)\u001b[0m\u001b[0;34m\u001b[0m\u001b[0;34m\u001b[0m\u001b[0m\n\u001b[0m\u001b[1;32m    289\u001b[0m \u001b[0;34m\u001b[0m\u001b[0m\n\u001b[1;32m    290\u001b[0m     \u001b[0;32mdef\u001b[0m \u001b[0mstarmap\u001b[0m\u001b[0;34m(\u001b[0m\u001b[0mself\u001b[0m\u001b[0;34m,\u001b[0m \u001b[0mfunc\u001b[0m\u001b[0;34m,\u001b[0m \u001b[0miterable\u001b[0m\u001b[0;34m,\u001b[0m \u001b[0mchunksize\u001b[0m\u001b[0;34m=\u001b[0m\u001b[0;32mNone\u001b[0m\u001b[0;34m)\u001b[0m\u001b[0;34m:\u001b[0m\u001b[0;34m\u001b[0m\u001b[0;34m\u001b[0m\u001b[0m\n",
      "\u001b[0;32m/Library/Frameworks/Python.framework/Versions/3.6/lib/python3.6/multiprocessing/pool.py\u001b[0m in \u001b[0;36mget\u001b[0;34m(self, timeout)\u001b[0m\n\u001b[1;32m    662\u001b[0m \u001b[0;34m\u001b[0m\u001b[0m\n\u001b[1;32m    663\u001b[0m     \u001b[0;32mdef\u001b[0m \u001b[0mget\u001b[0m\u001b[0;34m(\u001b[0m\u001b[0mself\u001b[0m\u001b[0;34m,\u001b[0m \u001b[0mtimeout\u001b[0m\u001b[0;34m=\u001b[0m\u001b[0;32mNone\u001b[0m\u001b[0;34m)\u001b[0m\u001b[0;34m:\u001b[0m\u001b[0;34m\u001b[0m\u001b[0;34m\u001b[0m\u001b[0m\n\u001b[0;32m--> 664\u001b[0;31m         \u001b[0mself\u001b[0m\u001b[0;34m.\u001b[0m\u001b[0mwait\u001b[0m\u001b[0;34m(\u001b[0m\u001b[0mtimeout\u001b[0m\u001b[0;34m)\u001b[0m\u001b[0;34m\u001b[0m\u001b[0;34m\u001b[0m\u001b[0m\n\u001b[0m\u001b[1;32m    665\u001b[0m         \u001b[0;32mif\u001b[0m \u001b[0;32mnot\u001b[0m \u001b[0mself\u001b[0m\u001b[0;34m.\u001b[0m\u001b[0mready\u001b[0m\u001b[0;34m(\u001b[0m\u001b[0;34m)\u001b[0m\u001b[0;34m:\u001b[0m\u001b[0;34m\u001b[0m\u001b[0;34m\u001b[0m\u001b[0m\n\u001b[1;32m    666\u001b[0m             \u001b[0;32mraise\u001b[0m \u001b[0mTimeoutError\u001b[0m\u001b[0;34m\u001b[0m\u001b[0;34m\u001b[0m\u001b[0m\n",
      "\u001b[0;32m/Library/Frameworks/Python.framework/Versions/3.6/lib/python3.6/multiprocessing/pool.py\u001b[0m in \u001b[0;36mwait\u001b[0;34m(self, timeout)\u001b[0m\n\u001b[1;32m    659\u001b[0m \u001b[0;34m\u001b[0m\u001b[0m\n\u001b[1;32m    660\u001b[0m     \u001b[0;32mdef\u001b[0m \u001b[0mwait\u001b[0m\u001b[0;34m(\u001b[0m\u001b[0mself\u001b[0m\u001b[0;34m,\u001b[0m \u001b[0mtimeout\u001b[0m\u001b[0;34m=\u001b[0m\u001b[0;32mNone\u001b[0m\u001b[0;34m)\u001b[0m\u001b[0;34m:\u001b[0m\u001b[0;34m\u001b[0m\u001b[0;34m\u001b[0m\u001b[0m\n\u001b[0;32m--> 661\u001b[0;31m         \u001b[0mself\u001b[0m\u001b[0;34m.\u001b[0m\u001b[0m_event\u001b[0m\u001b[0;34m.\u001b[0m\u001b[0mwait\u001b[0m\u001b[0;34m(\u001b[0m\u001b[0mtimeout\u001b[0m\u001b[0;34m)\u001b[0m\u001b[0;34m\u001b[0m\u001b[0;34m\u001b[0m\u001b[0m\n\u001b[0m\u001b[1;32m    662\u001b[0m \u001b[0;34m\u001b[0m\u001b[0m\n\u001b[1;32m    663\u001b[0m     \u001b[0;32mdef\u001b[0m \u001b[0mget\u001b[0m\u001b[0;34m(\u001b[0m\u001b[0mself\u001b[0m\u001b[0;34m,\u001b[0m \u001b[0mtimeout\u001b[0m\u001b[0;34m=\u001b[0m\u001b[0;32mNone\u001b[0m\u001b[0;34m)\u001b[0m\u001b[0;34m:\u001b[0m\u001b[0;34m\u001b[0m\u001b[0;34m\u001b[0m\u001b[0m\n",
      "\u001b[0;32m/Library/Frameworks/Python.framework/Versions/3.6/lib/python3.6/threading.py\u001b[0m in \u001b[0;36mwait\u001b[0;34m(self, timeout)\u001b[0m\n\u001b[1;32m    549\u001b[0m             \u001b[0msignaled\u001b[0m \u001b[0;34m=\u001b[0m \u001b[0mself\u001b[0m\u001b[0;34m.\u001b[0m\u001b[0m_flag\u001b[0m\u001b[0;34m\u001b[0m\u001b[0;34m\u001b[0m\u001b[0m\n\u001b[1;32m    550\u001b[0m             \u001b[0;32mif\u001b[0m \u001b[0;32mnot\u001b[0m \u001b[0msignaled\u001b[0m\u001b[0;34m:\u001b[0m\u001b[0;34m\u001b[0m\u001b[0;34m\u001b[0m\u001b[0m\n\u001b[0;32m--> 551\u001b[0;31m                 \u001b[0msignaled\u001b[0m \u001b[0;34m=\u001b[0m \u001b[0mself\u001b[0m\u001b[0;34m.\u001b[0m\u001b[0m_cond\u001b[0m\u001b[0;34m.\u001b[0m\u001b[0mwait\u001b[0m\u001b[0;34m(\u001b[0m\u001b[0mtimeout\u001b[0m\u001b[0;34m)\u001b[0m\u001b[0;34m\u001b[0m\u001b[0;34m\u001b[0m\u001b[0m\n\u001b[0m\u001b[1;32m    552\u001b[0m             \u001b[0;32mreturn\u001b[0m \u001b[0msignaled\u001b[0m\u001b[0;34m\u001b[0m\u001b[0;34m\u001b[0m\u001b[0m\n\u001b[1;32m    553\u001b[0m \u001b[0;34m\u001b[0m\u001b[0m\n",
      "\u001b[0;32m/Library/Frameworks/Python.framework/Versions/3.6/lib/python3.6/threading.py\u001b[0m in \u001b[0;36mwait\u001b[0;34m(self, timeout)\u001b[0m\n\u001b[1;32m    293\u001b[0m         \u001b[0;32mtry\u001b[0m\u001b[0;34m:\u001b[0m    \u001b[0;31m# restore state no matter what (e.g., KeyboardInterrupt)\u001b[0m\u001b[0;34m\u001b[0m\u001b[0;34m\u001b[0m\u001b[0m\n\u001b[1;32m    294\u001b[0m             \u001b[0;32mif\u001b[0m \u001b[0mtimeout\u001b[0m \u001b[0;32mis\u001b[0m \u001b[0;32mNone\u001b[0m\u001b[0;34m:\u001b[0m\u001b[0;34m\u001b[0m\u001b[0;34m\u001b[0m\u001b[0m\n\u001b[0;32m--> 295\u001b[0;31m                 \u001b[0mwaiter\u001b[0m\u001b[0;34m.\u001b[0m\u001b[0macquire\u001b[0m\u001b[0;34m(\u001b[0m\u001b[0;34m)\u001b[0m\u001b[0;34m\u001b[0m\u001b[0;34m\u001b[0m\u001b[0m\n\u001b[0m\u001b[1;32m    296\u001b[0m                 \u001b[0mgotit\u001b[0m \u001b[0;34m=\u001b[0m \u001b[0;32mTrue\u001b[0m\u001b[0;34m\u001b[0m\u001b[0;34m\u001b[0m\u001b[0m\n\u001b[1;32m    297\u001b[0m             \u001b[0;32melse\u001b[0m\u001b[0;34m:\u001b[0m\u001b[0;34m\u001b[0m\u001b[0;34m\u001b[0m\u001b[0m\n",
      "\u001b[0;31mKeyboardInterrupt\u001b[0m: "
     ]
    }
   ],
   "source": [
    "plot_station_use_heat_map(y2018[9], start=True)  # stations where the most trips originate for september 2018"
   ]
  },
  {
   "cell_type": "code",
   "execution_count": null,
   "metadata": {},
   "outputs": [],
   "source": [
    "plot_station_use_heat_map(y2018[9], start=False)  # stations where the most trips end for september 2018"
   ]
  },
  {
   "cell_type": "code",
   "execution_count": null,
   "metadata": {},
   "outputs": [],
   "source": [
    "plot_station_use_heat_map(y2018[9], morning, True)  # morning commute origination (starting from 4am to 11am) for september 2018"
   ]
  },
  {
   "cell_type": "code",
   "execution_count": null,
   "metadata": {},
   "outputs": [],
   "source": [
    "plot_station_use_heat_map(y2018[9], morning, False)  # morning commute destinations (starting from 4am to 11am) for september 2018"
   ]
  },
  {
   "cell_type": "code",
   "execution_count": null,
   "metadata": {},
   "outputs": [],
   "source": [
    "plot_station_use_heat_map(y2018[9], evening, True)  # evening commute origination (4pm to 8pm) for september 2018"
   ]
  },
  {
   "cell_type": "code",
   "execution_count": null,
   "metadata": {},
   "outputs": [],
   "source": [
    "plot_station_use_heat_map(y2018[9], evening, False)  # evening commute destinations (4pm to 8pm) for september 2018"
   ]
  },
  {
   "cell_type": "markdown",
   "metadata": {},
   "source": [
    "### Heat maps for rides from full past year: oct 2017 - sept 2018 (inclusive)"
   ]
  },
  {
   "cell_type": "code",
   "execution_count": null,
   "metadata": {},
   "outputs": [],
   "source": [
    "plot_station_use_heat_map(fullyear, start=True)  # stations where the most trips originate for october 2017 to september 2018"
   ]
  },
  {
   "cell_type": "code",
   "execution_count": null,
   "metadata": {},
   "outputs": [],
   "source": [
    "plot_station_use_heat_map(fullyear, start=False)  # stations where the most trips end for october 2017 to september 2018"
   ]
  },
  {
   "cell_type": "code",
   "execution_count": null,
   "metadata": {},
   "outputs": [],
   "source": [
    "plot_station_use_heat_map(fullyear, morning, True)  # morning commute origination (starting from 4am to 11am)"
   ]
  },
  {
   "cell_type": "code",
   "execution_count": null,
   "metadata": {},
   "outputs": [],
   "source": [
    "plot_station_use_heat_map(fullyear, morning, False)  # morning commute destinations (starting from 4am to 11am)"
   ]
  },
  {
   "cell_type": "code",
   "execution_count": null,
   "metadata": {},
   "outputs": [],
   "source": [
    "plot_station_use_heat_map(fullyear, evening, True)  # evening commute origination (4pm to 8pm)"
   ]
  },
  {
   "cell_type": "code",
   "execution_count": null,
   "metadata": {},
   "outputs": [],
   "source": [
    "plot_station_use_heat_map(fullyear, evening, False)  # evening commute destinations (4pm to 8pm)"
   ]
  },
  {
   "cell_type": "markdown",
   "metadata": {},
   "source": [
    "## Analytics of percentage of riders that are subscribers"
   ]
  },
  {
   "cell_type": "code",
   "execution_count": null,
   "metadata": {},
   "outputs": [],
   "source": [
    "unique, count = np.unique(fullyear[:,index_map['usertype']], return_counts=True)\n",
    "print(unique)\n",
    "print(count)"
   ]
  },
  {
   "cell_type": "code",
   "execution_count": null,
   "metadata": {},
   "outputs": [],
   "source": [
    "diff_start_end = fullyear[fullyear[:,index_map['startstationid']]  != fullyear[:,index_map['endstationid']]]"
   ]
  },
  {
   "cell_type": "code",
   "execution_count": null,
   "metadata": {},
   "outputs": [],
   "source": [
    "unique, count = np.unique(diff_start_end[:,index_map['usertype']], return_counts=True)"
   ]
  },
  {
   "cell_type": "code",
   "execution_count": null,
   "metadata": {},
   "outputs": [],
   "source": [
    "print(unique, count)"
   ]
  },
  {
   "cell_type": "code",
   "execution_count": null,
   "metadata": {},
   "outputs": [],
   "source": []
  }
 ],
 "metadata": {
  "kernelspec": {
   "display_name": "Python 3",
   "language": "python",
   "name": "python3"
  },
  "language_info": {
   "codemirror_mode": {
    "name": "ipython",
    "version": 3
   },
   "file_extension": ".py",
   "mimetype": "text/x-python",
   "name": "python",
   "nbconvert_exporter": "python",
   "pygments_lexer": "ipython3",
   "version": "3.6.7"
  }
 },
 "nbformat": 4,
 "nbformat_minor": 2
}
