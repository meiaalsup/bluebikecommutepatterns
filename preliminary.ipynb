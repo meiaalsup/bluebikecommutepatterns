{
 "cells": [
  {
   "cell_type": "markdown",
   "metadata": {},
   "source": [
    "# IDS.131 Preliminary Analysis\n",
    "Miranda, Jinghong, Yue, Charlie, Meia"
   ]
  },
  {
   "cell_type": "code",
   "execution_count": 1,
   "metadata": {},
   "outputs": [],
   "source": [
    "from preprocess import *"
   ]
  },
  {
   "cell_type": "markdown",
   "metadata": {},
   "source": [
    "## Load in and Preprocess Data"
   ]
  },
  {
   "cell_type": "code",
   "execution_count": 2,
   "metadata": {},
   "outputs": [
    {
     "name": "stdout",
     "output_type": "stream",
     "text": [
      "[['125' '2017-10-01 00:03:43' '2017-10-01 00:05:48' ... 'Subscriber'\n",
      "  '1992' '1\"']\n",
      " ['1195' '2017-10-01 00:04:24' '2017-10-01 00:24:19' ... 'Subscriber'\n",
      "  '1989' '1\"']\n",
      " ['513' '2017-10-01 00:04:32' '2017-10-01 00:13:05' ... 'Subscriber'\n",
      "  '1996' '1\"']\n",
      " ...\n",
      " ['808' '2018-09-30 23:59:44.3940' '2018-10-01 00:13:12.4110' ...\n",
      "  'Subscriber' '1999' '1']\n",
      " ['411' '2018-09-30 23:59:53.0020' '2018-10-01 00:06:44.0080' ...\n",
      "  'Subscriber' '1982' '1']\n",
      " ['643' '2018-09-30 19:30:33.2500' '2018-09-30 19:41:16.8290' ...\n",
      "  'Subscriber' '1989' '2']]\n",
      "['tripduration', 'starttime', 'stoptime', 'startstationid', 'startstationname', 'startstationlatitude', 'startstationlongitude', 'endstationid', 'endstationname', 'endstationlatitude', 'endstationlongitude', 'bikeid', 'usertype', 'birthyear', 'gender\"']\n",
      "{'tripduration': 0, 'starttime': 1, 'stoptime': 2, 'startstationid': 3, 'startstationname': 4, 'startstationlatitude': 5, 'startstationlongitude': 6, 'endstationid': 7, 'endstationname': 8, 'endstationlatitude': 9, 'endstationlongitude': 10, 'bikeid': 11, 'usertype': 12, 'birthyear': 13, 'gender\"': 14}\n"
     ]
    }
   ],
   "source": [
    "headers = get_headers(2018, 9)\n",
    "\n",
    "# get the data we want to use\n",
    "y2018 = {i+1: preprocess(2018, i+1) for i in range(9)}\n",
    "y2017 = {i: preprocess(2017, i) for i in range(10,13)}\n",
    "\n",
    "fullyear = np.vstack([month for month in {**y2017, **y2018}.values()])\n",
    "\n",
    "# map of data column to what that column represents\n",
    "index_map = {\n",
    "    key: i for i, key in enumerate(headers)\n",
    "}\n",
    "\n",
    "# maps station ids to their respective latitudes and longitudes\n",
    "station_coordinates = get_station_coordinates(fullyear)\n",
    "\n",
    "print(headers)\n",
    "print(index_map)"
   ]
  },
  {
   "cell_type": "code",
   "execution_count": null,
   "metadata": {},
   "outputs": [],
   "source": []
  },
  {
   "cell_type": "code",
   "execution_count": null,
   "metadata": {},
   "outputs": [],
   "source": [
    "morning = (4,10)  # inclusive, so from 4am to 11am.\n",
    "evening = (16,19)  # inclusive, from 4pm to 8pm"
   ]
  },
  {
   "cell_type": "markdown",
   "metadata": {},
   "source": [
    "## Station Usage Heat Maps\n",
    "\n",
    "### For trips during month of sept 2018"
   ]
  },
  {
   "cell_type": "code",
   "execution_count": null,
   "metadata": {},
   "outputs": [],
   "source": [
    "plot_station_use_heat_map(y2018[9], start=True)  # stations where the most trips originate for september 2018"
   ]
  },
  {
   "cell_type": "code",
   "execution_count": null,
   "metadata": {},
   "outputs": [],
   "source": [
    "plot_station_use_heat_map(y2018[9], start=False)  # stations where the most trips end for september 2018"
   ]
  },
  {
   "cell_type": "code",
   "execution_count": null,
   "metadata": {},
   "outputs": [],
   "source": [
    "plot_station_use_heat_map(y2018[9], morning, True)  # morning commute origination (starting from 4am to 11am) for september 2018"
   ]
  },
  {
   "cell_type": "code",
   "execution_count": null,
   "metadata": {},
   "outputs": [],
   "source": [
    "plot_station_use_heat_map(y2018[9], morning, False)  # morning commute destinations (starting from 4am to 11am) for september 2018"
   ]
  },
  {
   "cell_type": "code",
   "execution_count": null,
   "metadata": {},
   "outputs": [],
   "source": [
    "plot_station_use_heat_map(y2018[9], evening, True)  # evening commute origination (4pm to 8pm) for september 2018"
   ]
  },
  {
   "cell_type": "code",
   "execution_count": null,
   "metadata": {},
   "outputs": [],
   "source": [
    "plot_station_use_heat_map(y2018[9], evening, False)  # evening commute destinations (4pm to 8pm) for september 2018"
   ]
  },
  {
   "cell_type": "markdown",
   "metadata": {},
   "source": [
    "### Heat maps for rides from full past year: oct 2017 - sept 2018 (inclusive)"
   ]
  },
  {
   "cell_type": "code",
   "execution_count": null,
   "metadata": {},
   "outputs": [],
   "source": [
    "plot_station_use_heat_map(fullyear, start=True)  # stations where the most trips originate for october 2017 to september 2018"
   ]
  },
  {
   "cell_type": "code",
   "execution_count": null,
   "metadata": {},
   "outputs": [],
   "source": [
    "plot_station_use_heat_map(fullyear, start=False)  # stations where the most trips end for october 2017 to september 2018"
   ]
  },
  {
   "cell_type": "code",
   "execution_count": null,
   "metadata": {},
   "outputs": [],
   "source": [
    "plot_station_use_heat_map(fullyear, morning, True)  # morning commute origination (starting from 4am to 11am)"
   ]
  },
  {
   "cell_type": "code",
   "execution_count": null,
   "metadata": {},
   "outputs": [],
   "source": [
    "plot_station_use_heat_map(fullyear, morning, False)  # morning commute destinations (starting from 4am to 11am)"
   ]
  },
  {
   "cell_type": "code",
   "execution_count": null,
   "metadata": {},
   "outputs": [],
   "source": [
    "plot_station_use_heat_map(fullyear, evening, True)  # evening commute origination (4pm to 8pm)"
   ]
  },
  {
   "cell_type": "code",
   "execution_count": null,
   "metadata": {},
   "outputs": [],
   "source": [
    "plot_station_use_heat_map(fullyear, evening, False)  # evening commute destinations (4pm to 8pm)"
   ]
  },
  {
   "cell_type": "markdown",
   "metadata": {},
   "source": [
    "## Analytics of percentage of riders that are subscribers"
   ]
  },
  {
   "cell_type": "code",
   "execution_count": null,
   "metadata": {},
   "outputs": [],
   "source": [
    "unique, count = np.unique(fullyear[:,index_map['usertype']], return_counts=True)\n",
    "print(unique)\n",
    "print(count)"
   ]
  },
  {
   "cell_type": "code",
   "execution_count": null,
   "metadata": {},
   "outputs": [],
   "source": [
    "diff_start_end = fullyear[fullyear[:,index_map['startstationid']]  != fullyear[:,index_map['endstationid']]]"
   ]
  },
  {
   "cell_type": "code",
   "execution_count": null,
   "metadata": {},
   "outputs": [],
   "source": [
    "unique, count = np.unique(diff_start_end[:,index_map['usertype']], return_counts=True)"
   ]
  },
  {
   "cell_type": "code",
   "execution_count": null,
   "metadata": {},
   "outputs": [],
   "source": [
    "print(unique, count)"
   ]
  },
  {
   "cell_type": "code",
   "execution_count": null,
   "metadata": {},
   "outputs": [],
   "source": []
  }
 ],
 "metadata": {
  "kernelspec": {
   "display_name": "Python 3",
   "language": "python",
   "name": "python3"
  },
  "language_info": {
   "codemirror_mode": {
    "name": "ipython",
    "version": 3
   },
   "file_extension": ".py",
   "mimetype": "text/x-python",
   "name": "python",
   "nbconvert_exporter": "python",
   "pygments_lexer": "ipython3",
   "version": "3.6.7"
  }
 },
 "nbformat": 4,
 "nbformat_minor": 2
}
